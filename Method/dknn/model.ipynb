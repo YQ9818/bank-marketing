{
 "cells": [
  {
   "cell_type": "code",
   "execution_count": 19,
   "metadata": {},
   "outputs": [],
   "source": [
    "import pandas as pd\n",
    "from sklearn.model_selection import train_test_split\n",
    "from sklearn.linear_model import LogisticRegression\n",
    "from sklearn import metrics\n",
    "import matplotlib.pyplot as plt\n",
    "import seaborn as sns\n",
    "from sklearn.preprocessing import PolynomialFeatures\n",
    "import numpy as np"
   ]
  },
  {
   "cell_type": "code",
   "execution_count": 20,
   "metadata": {},
   "outputs": [],
   "source": [
    "import tensorflow as tf\n",
    "import tf2onnx"
   ]
  },
  {
   "attachments": {},
   "cell_type": "markdown",
   "metadata": {},
   "source": [
    "## Reading the data"
   ]
  },
  {
   "cell_type": "code",
   "execution_count": 21,
   "metadata": {},
   "outputs": [
    {
     "data": {
      "text/html": [
       "<div>\n",
       "<style scoped>\n",
       "    .dataframe tbody tr th:only-of-type {\n",
       "        vertical-align: middle;\n",
       "    }\n",
       "\n",
       "    .dataframe tbody tr th {\n",
       "        vertical-align: top;\n",
       "    }\n",
       "\n",
       "    .dataframe thead th {\n",
       "        text-align: right;\n",
       "    }\n",
       "</style>\n",
       "<table border=\"1\" class=\"dataframe\">\n",
       "  <thead>\n",
       "    <tr style=\"text-align: right;\">\n",
       "      <th></th>\n",
       "      <th>age</th>\n",
       "      <th>default</th>\n",
       "      <th>housing</th>\n",
       "      <th>loan</th>\n",
       "      <th>campaign</th>\n",
       "      <th>pdays</th>\n",
       "      <th>previous</th>\n",
       "      <th>poutcome</th>\n",
       "      <th>emp.var.rate</th>\n",
       "      <th>cons.price.idx</th>\n",
       "      <th>...</th>\n",
       "      <th>month_mar</th>\n",
       "      <th>month_may</th>\n",
       "      <th>month_nov</th>\n",
       "      <th>month_oct</th>\n",
       "      <th>month_sep</th>\n",
       "      <th>day_of_week_fri</th>\n",
       "      <th>day_of_week_mon</th>\n",
       "      <th>day_of_week_thu</th>\n",
       "      <th>day_of_week_tue</th>\n",
       "      <th>day_of_week_wed</th>\n",
       "    </tr>\n",
       "  </thead>\n",
       "  <tbody>\n",
       "    <tr>\n",
       "      <th>0</th>\n",
       "      <td>0.171429</td>\n",
       "      <td>1</td>\n",
       "      <td>-1</td>\n",
       "      <td>1</td>\n",
       "      <td>0.029412</td>\n",
       "      <td>1.0</td>\n",
       "      <td>0.0</td>\n",
       "      <td>0</td>\n",
       "      <td>0.333333</td>\n",
       "      <td>0.269680</td>\n",
       "      <td>...</td>\n",
       "      <td>0</td>\n",
       "      <td>1</td>\n",
       "      <td>0</td>\n",
       "      <td>0</td>\n",
       "      <td>0</td>\n",
       "      <td>1</td>\n",
       "      <td>0</td>\n",
       "      <td>0</td>\n",
       "      <td>0</td>\n",
       "      <td>0</td>\n",
       "    </tr>\n",
       "    <tr>\n",
       "      <th>1</th>\n",
       "      <td>0.300000</td>\n",
       "      <td>1</td>\n",
       "      <td>1</td>\n",
       "      <td>1</td>\n",
       "      <td>0.088235</td>\n",
       "      <td>1.0</td>\n",
       "      <td>0.0</td>\n",
       "      <td>0</td>\n",
       "      <td>0.937500</td>\n",
       "      <td>0.698753</td>\n",
       "      <td>...</td>\n",
       "      <td>0</td>\n",
       "      <td>1</td>\n",
       "      <td>0</td>\n",
       "      <td>0</td>\n",
       "      <td>0</td>\n",
       "      <td>1</td>\n",
       "      <td>0</td>\n",
       "      <td>0</td>\n",
       "      <td>0</td>\n",
       "      <td>0</td>\n",
       "    </tr>\n",
       "    <tr>\n",
       "      <th>2</th>\n",
       "      <td>0.100000</td>\n",
       "      <td>1</td>\n",
       "      <td>-1</td>\n",
       "      <td>1</td>\n",
       "      <td>0.000000</td>\n",
       "      <td>1.0</td>\n",
       "      <td>0.0</td>\n",
       "      <td>0</td>\n",
       "      <td>1.000000</td>\n",
       "      <td>0.882307</td>\n",
       "      <td>...</td>\n",
       "      <td>0</td>\n",
       "      <td>0</td>\n",
       "      <td>0</td>\n",
       "      <td>0</td>\n",
       "      <td>0</td>\n",
       "      <td>0</td>\n",
       "      <td>0</td>\n",
       "      <td>0</td>\n",
       "      <td>0</td>\n",
       "      <td>1</td>\n",
       "    </tr>\n",
       "    <tr>\n",
       "      <th>3</th>\n",
       "      <td>0.285714</td>\n",
       "      <td>1</td>\n",
       "      <td>0</td>\n",
       "      <td>0</td>\n",
       "      <td>0.058824</td>\n",
       "      <td>1.0</td>\n",
       "      <td>0.0</td>\n",
       "      <td>0</td>\n",
       "      <td>1.000000</td>\n",
       "      <td>0.882307</td>\n",
       "      <td>...</td>\n",
       "      <td>0</td>\n",
       "      <td>0</td>\n",
       "      <td>0</td>\n",
       "      <td>0</td>\n",
       "      <td>0</td>\n",
       "      <td>1</td>\n",
       "      <td>0</td>\n",
       "      <td>0</td>\n",
       "      <td>0</td>\n",
       "      <td>0</td>\n",
       "    </tr>\n",
       "    <tr>\n",
       "      <th>4</th>\n",
       "      <td>0.414286</td>\n",
       "      <td>1</td>\n",
       "      <td>-1</td>\n",
       "      <td>1</td>\n",
       "      <td>0.000000</td>\n",
       "      <td>1.0</td>\n",
       "      <td>0.0</td>\n",
       "      <td>0</td>\n",
       "      <td>0.687500</td>\n",
       "      <td>0.389322</td>\n",
       "      <td>...</td>\n",
       "      <td>0</td>\n",
       "      <td>0</td>\n",
       "      <td>1</td>\n",
       "      <td>0</td>\n",
       "      <td>0</td>\n",
       "      <td>0</td>\n",
       "      <td>1</td>\n",
       "      <td>0</td>\n",
       "      <td>0</td>\n",
       "      <td>0</td>\n",
       "    </tr>\n",
       "  </tbody>\n",
       "</table>\n",
       "<p>5 rows × 56 columns</p>\n",
       "</div>"
      ],
      "text/plain": [
       "        age  default  housing  loan  campaign  pdays  previous  poutcome  \\\n",
       "0  0.171429        1       -1     1  0.029412    1.0       0.0         0   \n",
       "1  0.300000        1        1     1  0.088235    1.0       0.0         0   \n",
       "2  0.100000        1       -1     1  0.000000    1.0       0.0         0   \n",
       "3  0.285714        1        0     0  0.058824    1.0       0.0         0   \n",
       "4  0.414286        1       -1     1  0.000000    1.0       0.0         0   \n",
       "\n",
       "   emp.var.rate  cons.price.idx  ...  month_mar  month_may  month_nov  \\\n",
       "0      0.333333        0.269680  ...          0          1          0   \n",
       "1      0.937500        0.698753  ...          0          1          0   \n",
       "2      1.000000        0.882307  ...          0          0          0   \n",
       "3      1.000000        0.882307  ...          0          0          0   \n",
       "4      0.687500        0.389322  ...          0          0          1   \n",
       "\n",
       "   month_oct  month_sep  day_of_week_fri  day_of_week_mon  day_of_week_thu  \\\n",
       "0          0          0                1                0                0   \n",
       "1          0          0                1                0                0   \n",
       "2          0          0                0                0                0   \n",
       "3          0          0                1                0                0   \n",
       "4          0          0                0                1                0   \n",
       "\n",
       "   day_of_week_tue  day_of_week_wed  \n",
       "0                0                0  \n",
       "1                0                0  \n",
       "2                0                1  \n",
       "3                0                0  \n",
       "4                0                0  \n",
       "\n",
       "[5 rows x 56 columns]"
      ]
     },
     "execution_count": 21,
     "metadata": {},
     "output_type": "execute_result"
    }
   ],
   "source": [
    "data = pd.read_csv(r\"..\\..\\Data\\small_ohe.csv\")\n",
    "data.head()"
   ]
  },
  {
   "cell_type": "code",
   "execution_count": 22,
   "metadata": {},
   "outputs": [
    {
     "data": {
      "text/plain": [
       "Index(['age', 'default', 'housing', 'loan', 'campaign', 'pdays', 'previous',\n",
       "       'poutcome', 'emp.var.rate', 'cons.price.idx', 'cons.conf.idx',\n",
       "       'euribor3m', 'nr.employed', 'y', 'pdays2', 'job_admin.',\n",
       "       'job_blue-collar', 'job_entrepreneur', 'job_housemaid',\n",
       "       'job_management', 'job_retired', 'job_self-employed', 'job_services',\n",
       "       'job_student', 'job_technician', 'job_unemployed', 'job_unknown',\n",
       "       'marital_divorced', 'marital_married', 'marital_single',\n",
       "       'marital_unknown', 'education_basic.4y', 'education_basic.6y',\n",
       "       'education_basic.9y', 'education_high.school', 'education_illiterate',\n",
       "       'education_professional.course', 'education_university.degree',\n",
       "       'education_unknown', 'contact_cellular', 'contact_telephone',\n",
       "       'month_apr', 'month_aug', 'month_dec', 'month_jul', 'month_jun',\n",
       "       'month_mar', 'month_may', 'month_nov', 'month_oct', 'month_sep',\n",
       "       'day_of_week_fri', 'day_of_week_mon', 'day_of_week_thu',\n",
       "       'day_of_week_tue', 'day_of_week_wed'],\n",
       "      dtype='object')"
      ]
     },
     "execution_count": 22,
     "metadata": {},
     "output_type": "execute_result"
    }
   ],
   "source": [
    "data.columns"
   ]
  },
  {
   "cell_type": "code",
   "execution_count": 23,
   "metadata": {},
   "outputs": [],
   "source": [
    "# Saperating features and result vectors\n",
    "X = data.drop('y', axis=1).values\n",
    "y = data['y'].values"
   ]
  },
  {
   "cell_type": "code",
   "execution_count": 24,
   "metadata": {},
   "outputs": [],
   "source": [
    "X_train, X_test, y_train, y_test = train_test_split(X, y, test_size=0.30, random_state=42)"
   ]
  },
  {
   "cell_type": "code",
   "execution_count": 59,
   "metadata": {},
   "outputs": [],
   "source": [
    "# Define the model architecture\n",
    "model = tf.keras.Sequential([\n",
    "    tf.keras.layers.Dense(64, activation='relu', input_shape=(55,),use_bias=True),\n",
    "    tf.keras.layers.Dense(64, activation='relu',use_bias=True),\n",
    "    tf.keras.layers.Dense(32, activation='relu',use_bias=True),\n",
    "    tf.keras.layers.Dense(1, activation='sigmoid',use_bias=True)\n",
    "])\n",
    "model.compile(loss='BinaryCrossentropy', optimizer='adam', metrics=['accuracy'])"
   ]
  },
  {
   "cell_type": "code",
   "execution_count": 60,
   "metadata": {},
   "outputs": [
    {
     "name": "stdout",
     "output_type": "stream",
     "text": [
      "Epoch 1/60\n",
      "40/40 [==============================] - 1s 3ms/step - loss: 0.6363 - accuracy: 0.6682 - val_loss: 0.5572 - val_accuracy: 0.7407\n",
      "Epoch 2/60\n",
      "40/40 [==============================] - 0s 1ms/step - loss: 0.5484 - accuracy: 0.7308 - val_loss: 0.5307 - val_accuracy: 0.7531\n",
      "Epoch 3/60\n",
      "40/40 [==============================] - 0s 1ms/step - loss: 0.5233 - accuracy: 0.7410 - val_loss: 0.5136 - val_accuracy: 0.7572\n",
      "Epoch 4/60\n",
      "40/40 [==============================] - 0s 1ms/step - loss: 0.5033 - accuracy: 0.7557 - val_loss: 0.4969 - val_accuracy: 0.7645\n",
      "Epoch 5/60\n",
      "40/40 [==============================] - 0s 1ms/step - loss: 0.4787 - accuracy: 0.7764 - val_loss: 0.4869 - val_accuracy: 0.7710\n",
      "Epoch 6/60\n",
      "40/40 [==============================] - 0s 1ms/step - loss: 0.4563 - accuracy: 0.7891 - val_loss: 0.4601 - val_accuracy: 0.7865\n",
      "Epoch 7/60\n",
      "40/40 [==============================] - 0s 1ms/step - loss: 0.4275 - accuracy: 0.8074 - val_loss: 0.4438 - val_accuracy: 0.7980\n",
      "Epoch 8/60\n",
      "40/40 [==============================] - 0s 1ms/step - loss: 0.3901 - accuracy: 0.8266 - val_loss: 0.4243 - val_accuracy: 0.8030\n",
      "Epoch 9/60\n",
      "40/40 [==============================] - 0s 1ms/step - loss: 0.3625 - accuracy: 0.8435 - val_loss: 0.4083 - val_accuracy: 0.8049\n",
      "Epoch 10/60\n",
      "40/40 [==============================] - 0s 1ms/step - loss: 0.3387 - accuracy: 0.8539 - val_loss: 0.3763 - val_accuracy: 0.8328\n",
      "Epoch 11/60\n",
      "40/40 [==============================] - 0s 1ms/step - loss: 0.3086 - accuracy: 0.8734 - val_loss: 0.3957 - val_accuracy: 0.8030\n",
      "Epoch 12/60\n",
      "40/40 [==============================] - 0s 1ms/step - loss: 0.2976 - accuracy: 0.8755 - val_loss: 0.3925 - val_accuracy: 0.8337\n",
      "Epoch 13/60\n",
      "40/40 [==============================] - 0s 1ms/step - loss: 0.2647 - accuracy: 0.8895 - val_loss: 0.3233 - val_accuracy: 0.8617\n",
      "Epoch 14/60\n",
      "40/40 [==============================] - 0s 1ms/step - loss: 0.2399 - accuracy: 0.9059 - val_loss: 0.3128 - val_accuracy: 0.8635\n",
      "Epoch 15/60\n",
      "40/40 [==============================] - 0s 1ms/step - loss: 0.2205 - accuracy: 0.9122 - val_loss: 0.2916 - val_accuracy: 0.8781\n",
      "Epoch 16/60\n",
      "40/40 [==============================] - 0s 1ms/step - loss: 0.2021 - accuracy: 0.9250 - val_loss: 0.2906 - val_accuracy: 0.8855\n",
      "Epoch 17/60\n",
      "40/40 [==============================] - 0s 1ms/step - loss: 0.1833 - accuracy: 0.9364 - val_loss: 0.2766 - val_accuracy: 0.8901\n",
      "Epoch 18/60\n",
      "40/40 [==============================] - 0s 1ms/step - loss: 0.1664 - accuracy: 0.9411 - val_loss: 0.2941 - val_accuracy: 0.8974\n",
      "Epoch 19/60\n",
      "40/40 [==============================] - 0s 1ms/step - loss: 0.1614 - accuracy: 0.9436 - val_loss: 0.2572 - val_accuracy: 0.9052\n",
      "Epoch 20/60\n",
      "40/40 [==============================] - 0s 1ms/step - loss: 0.1454 - accuracy: 0.9489 - val_loss: 0.2590 - val_accuracy: 0.9066\n",
      "Epoch 21/60\n",
      "40/40 [==============================] - 0s 1ms/step - loss: 0.1503 - accuracy: 0.9458 - val_loss: 0.2707 - val_accuracy: 0.9020\n",
      "Epoch 22/60\n",
      "40/40 [==============================] - 0s 1ms/step - loss: 0.1377 - accuracy: 0.9527 - val_loss: 0.2364 - val_accuracy: 0.9093\n",
      "Epoch 23/60\n",
      "40/40 [==============================] - 0s 1ms/step - loss: 0.1181 - accuracy: 0.9597 - val_loss: 0.2285 - val_accuracy: 0.9175\n",
      "Epoch 24/60\n",
      "40/40 [==============================] - 0s 1ms/step - loss: 0.1170 - accuracy: 0.9613 - val_loss: 0.2434 - val_accuracy: 0.9120\n",
      "Epoch 25/60\n",
      "40/40 [==============================] - 0s 2ms/step - loss: 0.1111 - accuracy: 0.9637 - val_loss: 0.2629 - val_accuracy: 0.9171\n",
      "Epoch 26/60\n",
      "40/40 [==============================] - 0s 1ms/step - loss: 0.1082 - accuracy: 0.9664 - val_loss: 0.2456 - val_accuracy: 0.9253\n",
      "Epoch 27/60\n",
      "40/40 [==============================] - 0s 1ms/step - loss: 0.0946 - accuracy: 0.9705 - val_loss: 0.2571 - val_accuracy: 0.9143\n",
      "Epoch 28/60\n",
      "40/40 [==============================] - 0s 1ms/step - loss: 0.1116 - accuracy: 0.9562 - val_loss: 0.2211 - val_accuracy: 0.9313\n",
      "Epoch 29/60\n",
      "40/40 [==============================] - 0s 1ms/step - loss: 0.0915 - accuracy: 0.9658 - val_loss: 0.2297 - val_accuracy: 0.9285\n",
      "Epoch 30/60\n",
      "40/40 [==============================] - 0s 1ms/step - loss: 0.0853 - accuracy: 0.9705 - val_loss: 0.2207 - val_accuracy: 0.9262\n",
      "Epoch 31/60\n",
      "40/40 [==============================] - 0s 1ms/step - loss: 0.0756 - accuracy: 0.9749 - val_loss: 0.2491 - val_accuracy: 0.9272\n",
      "Epoch 32/60\n",
      "40/40 [==============================] - 0s 1ms/step - loss: 0.0740 - accuracy: 0.9741 - val_loss: 0.2452 - val_accuracy: 0.9290\n",
      "Epoch 33/60\n",
      "40/40 [==============================] - 0s 1ms/step - loss: 0.0714 - accuracy: 0.9762 - val_loss: 0.2466 - val_accuracy: 0.9258\n",
      "Epoch 34/60\n",
      "40/40 [==============================] - 0s 1ms/step - loss: 0.0765 - accuracy: 0.9729 - val_loss: 0.2135 - val_accuracy: 0.9281\n",
      "Epoch 35/60\n",
      "40/40 [==============================] - 0s 1ms/step - loss: 0.0689 - accuracy: 0.9751 - val_loss: 0.2036 - val_accuracy: 0.9363\n",
      "Epoch 36/60\n",
      "40/40 [==============================] - 0s 1ms/step - loss: 0.0699 - accuracy: 0.9747 - val_loss: 0.2258 - val_accuracy: 0.9308\n",
      "Epoch 37/60\n",
      "40/40 [==============================] - 0s 1ms/step - loss: 0.0722 - accuracy: 0.9741 - val_loss: 0.2491 - val_accuracy: 0.9285\n",
      "Epoch 38/60\n",
      "40/40 [==============================] - 0s 1ms/step - loss: 0.0713 - accuracy: 0.9758 - val_loss: 0.2245 - val_accuracy: 0.9350\n",
      "Epoch 39/60\n",
      "40/40 [==============================] - 0s 1ms/step - loss: 0.0667 - accuracy: 0.9745 - val_loss: 0.3018 - val_accuracy: 0.9185\n",
      "Epoch 40/60\n",
      "40/40 [==============================] - 0s 1ms/step - loss: 0.0658 - accuracy: 0.9776 - val_loss: 0.2110 - val_accuracy: 0.9437\n",
      "Epoch 41/60\n",
      "40/40 [==============================] - 0s 1ms/step - loss: 0.0676 - accuracy: 0.9747 - val_loss: 0.2603 - val_accuracy: 0.9322\n",
      "Epoch 42/60\n",
      "40/40 [==============================] - 0s 1ms/step - loss: 0.0687 - accuracy: 0.9755 - val_loss: 0.2260 - val_accuracy: 0.9372\n",
      "Epoch 43/60\n",
      "40/40 [==============================] - 0s 1ms/step - loss: 0.0639 - accuracy: 0.9768 - val_loss: 0.2444 - val_accuracy: 0.9409\n",
      "Epoch 44/60\n",
      "40/40 [==============================] - 0s 1ms/step - loss: 0.0621 - accuracy: 0.9780 - val_loss: 0.2679 - val_accuracy: 0.9295\n",
      "Epoch 45/60\n",
      "40/40 [==============================] - 0s 1ms/step - loss: 0.0544 - accuracy: 0.9813 - val_loss: 0.2525 - val_accuracy: 0.9304\n",
      "Epoch 46/60\n",
      "40/40 [==============================] - 0s 1ms/step - loss: 0.0570 - accuracy: 0.9800 - val_loss: 0.3022 - val_accuracy: 0.9281\n",
      "Epoch 47/60\n",
      "40/40 [==============================] - 0s 1ms/step - loss: 0.0665 - accuracy: 0.9764 - val_loss: 0.2578 - val_accuracy: 0.9363\n",
      "Epoch 48/60\n",
      "40/40 [==============================] - 0s 1ms/step - loss: 0.0578 - accuracy: 0.9772 - val_loss: 0.2124 - val_accuracy: 0.9437\n",
      "Epoch 49/60\n",
      "40/40 [==============================] - 0s 1ms/step - loss: 0.0593 - accuracy: 0.9794 - val_loss: 0.2573 - val_accuracy: 0.9363\n",
      "Epoch 50/60\n",
      "40/40 [==============================] - 0s 1ms/step - loss: 0.0579 - accuracy: 0.9798 - val_loss: 0.2062 - val_accuracy: 0.9418\n",
      "Epoch 51/60\n",
      "40/40 [==============================] - 0s 1ms/step - loss: 0.0586 - accuracy: 0.9776 - val_loss: 0.2382 - val_accuracy: 0.9382\n",
      "Epoch 52/60\n",
      "40/40 [==============================] - 0s 1ms/step - loss: 0.0564 - accuracy: 0.9794 - val_loss: 0.2418 - val_accuracy: 0.9404\n",
      "Epoch 53/60\n",
      "40/40 [==============================] - 0s 1ms/step - loss: 0.0544 - accuracy: 0.9804 - val_loss: 0.2445 - val_accuracy: 0.9395\n",
      "Epoch 54/60\n",
      "40/40 [==============================] - 0s 1ms/step - loss: 0.0496 - accuracy: 0.9837 - val_loss: 0.2527 - val_accuracy: 0.9395\n",
      "Epoch 55/60\n",
      "40/40 [==============================] - 0s 1ms/step - loss: 0.0516 - accuracy: 0.9815 - val_loss: 0.2546 - val_accuracy: 0.9404\n",
      "Epoch 56/60\n",
      "40/40 [==============================] - 0s 1ms/step - loss: 0.0510 - accuracy: 0.9817 - val_loss: 0.2671 - val_accuracy: 0.9359\n",
      "Epoch 57/60\n",
      "40/40 [==============================] - 0s 1ms/step - loss: 0.0501 - accuracy: 0.9802 - val_loss: 0.2397 - val_accuracy: 0.9409\n",
      "Epoch 58/60\n",
      "40/40 [==============================] - 0s 1ms/step - loss: 0.0541 - accuracy: 0.9794 - val_loss: 0.2645 - val_accuracy: 0.9359\n",
      "Epoch 59/60\n",
      "40/40 [==============================] - 0s 1ms/step - loss: 0.0585 - accuracy: 0.9798 - val_loss: 0.3459 - val_accuracy: 0.9208\n",
      "Epoch 60/60\n",
      "40/40 [==============================] - 0s 1ms/step - loss: 0.0566 - accuracy: 0.9804 - val_loss: 0.2391 - val_accuracy: 0.9327\n"
     ]
    },
    {
     "data": {
      "text/plain": [
       "<keras.callbacks.History at 0x1b53173d6a0>"
      ]
     },
     "execution_count": 60,
     "metadata": {},
     "output_type": "execute_result"
    }
   ],
   "source": [
    "model.fit(X_train, y_train, batch_size=128, epochs=60, validation_data=(X_test, y_test))"
   ]
  },
  {
   "cell_type": "code",
   "execution_count": 61,
   "metadata": {},
   "outputs": [
    {
     "name": "stdout",
     "output_type": "stream",
     "text": [
      "Model: \"sequential_20\"\n",
      "_________________________________________________________________\n",
      " Layer (type)                Output Shape              Param #   \n",
      "=================================================================\n",
      " dense_66 (Dense)            (None, 64)                3584      \n",
      "                                                                 \n",
      " dense_67 (Dense)            (None, 64)                4160      \n",
      "                                                                 \n",
      " dense_68 (Dense)            (None, 32)                2080      \n",
      "                                                                 \n",
      " dense_69 (Dense)            (None, 1)                 33        \n",
      "                                                                 \n",
      "=================================================================\n",
      "Total params: 9,857\n",
      "Trainable params: 9,857\n",
      "Non-trainable params: 0\n",
      "_________________________________________________________________\n"
     ]
    }
   ],
   "source": [
    "model.summary()"
   ]
  },
  {
   "cell_type": "markdown",
   "metadata": {},
   "source": [
    "## Convert NN to ONNX file"
   ]
  },
  {
   "cell_type": "code",
   "execution_count": 64,
   "metadata": {},
   "outputs": [],
   "source": [
    "# convert the model to ONNX format\n",
    "onnx_model, _ = tf2onnx.convert.from_keras(model)\n",
    "\n",
    "# save the ONNX model to a file\n",
    "with open(\"my_model.onnx\", \"wb\") as f:\n",
    "    f.write(onnx_model.SerializeToString())"
   ]
  },
  {
   "attachments": {},
   "cell_type": "markdown",
   "metadata": {},
   "source": [
    "## Setup onnx"
   ]
  },
  {
   "cell_type": "code",
   "execution_count": 76,
   "metadata": {},
   "outputs": [
    {
     "name": "stdout",
     "output_type": "stream",
     "text": [
      "<class 'google.protobuf.pyext._message.RepeatedCompositeContainer'>\n"
     ]
    }
   ],
   "source": [
    "import onnx\n",
    "from onnx.checker import check_model\n",
    "import onnxruntime as ort\n",
    "\n",
    "def setup(onnx_file: str,):\n",
    "    # Load the ONNX model\n",
    "    ort_sess = ort.InferenceSession(onnx_file)\n",
    "    outputs = ort_sess.run(None, {'dense_66_input': X_train.astype(np.float32)})\n",
    "\n",
    "    return ort_sess\n",
    "setup('my_model.onnx')"
   ]
  },
  {
   "cell_type": "code",
   "execution_count": 56,
   "metadata": {},
   "outputs": [],
   "source": [
    "def confidence(data, sess, para):\n",
    "    result = np.zeros_like(data)\n",
    "    return result"
   ]
  }
 ],
 "metadata": {
  "kernelspec": {
   "display_name": "ub",
   "language": "python",
   "name": "python3"
  },
  "language_info": {
   "codemirror_mode": {
    "name": "ipython",
    "version": 3
   },
   "file_extension": ".py",
   "mimetype": "text/x-python",
   "name": "python",
   "nbconvert_exporter": "python",
   "pygments_lexer": "ipython3",
   "version": "3.8.16"
  },
  "orig_nbformat": 4,
  "vscode": {
   "interpreter": {
    "hash": "8a46493ef273555f0fac6598162cd73ee5d8ec19f64a4bbbda3cc3aa05bc0ca3"
   }
  }
 },
 "nbformat": 4,
 "nbformat_minor": 2
}
